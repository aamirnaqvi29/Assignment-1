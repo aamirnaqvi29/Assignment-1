{
 "cells": [
  {
   "cell_type": "markdown",
   "id": "9333ff25-b218-481e-b6ff-46d24a5cf09d",
   "metadata": {},
   "source": [
    "## Question 1"
   ]
  },
  {
   "cell_type": "code",
   "execution_count": 2,
   "id": "d1bf5dca-4867-456e-8347-77a056d07923",
   "metadata": {},
   "outputs": [],
   "source": [
    "str1=\"pyhton\""
   ]
  },
  {
   "cell_type": "code",
   "execution_count": 15,
   "id": "cd55b38f-dff6-42e6-a7df-6dad3a267eec",
   "metadata": {},
   "outputs": [],
   "source": [
    "list1 = [\"python\",\"pw skills\",12245]"
   ]
  },
  {
   "cell_type": "code",
   "execution_count": 16,
   "id": "f0f6048e-d7d1-4b7c-a25a-bfbbdf0f505f",
   "metadata": {},
   "outputs": [],
   "source": [
    "float1=123456.555"
   ]
  },
  {
   "cell_type": "code",
   "execution_count": 17,
   "id": "26cd617a-9255-48e3-b39b-b68a0e2ac5b4",
   "metadata": {},
   "outputs": [],
   "source": [
    "tupple1=(\"python\",\"aamir\",555,222.222)"
   ]
  },
  {
   "cell_type": "markdown",
   "id": "949ef412-34d8-4d4f-bb9f-32b9a04ddf9a",
   "metadata": {},
   "source": [
    "## Question 2"
   ]
  },
  {
   "cell_type": "code",
   "execution_count": 40,
   "id": "1c056add-c49b-4e5a-89c2-7c53d6718b4b",
   "metadata": {},
   "outputs": [],
   "source": [
    "var1 =''"
   ]
  },
  {
   "cell_type": "code",
   "execution_count": 41,
   "id": "de24bb7b-c304-4688-98d9-15721bbdb471",
   "metadata": {},
   "outputs": [
    {
     "data": {
      "text/plain": [
       "str"
      ]
     },
     "execution_count": 41,
     "metadata": {},
     "output_type": "execute_result"
    }
   ],
   "source": [
    "type(var1)"
   ]
  },
  {
   "cell_type": "code",
   "execution_count": 42,
   "id": "f9e75806-6ad5-4b84-8440-89c9675f7eb5",
   "metadata": {},
   "outputs": [
    {
     "ename": "NameError",
     "evalue": "name 'DS' is not defined",
     "output_type": "error",
     "traceback": [
      "\u001b[0;31m---------------------------------------------------------------------------\u001b[0m",
      "\u001b[0;31mNameError\u001b[0m                                 Traceback (most recent call last)",
      "Cell \u001b[0;32mIn[42], line 1\u001b[0m\n\u001b[0;32m----> 1\u001b[0m vae2 \u001b[38;5;241m=\u001b[39m [\u001b[43mDS\u001b[49m,ML,Python]\n",
      "\u001b[0;31mNameError\u001b[0m: name 'DS' is not defined"
     ]
    }
   ],
   "source": [
    "var2 = [DS,ML,Python]"
   ]
  },
  {
   "cell_type": "code",
   "execution_count": 43,
   "id": "be9ac71c-cb02-42b0-8d0d-0204c94ec9c9",
   "metadata": {},
   "outputs": [],
   "source": [
    "var3 =['DS','ML','python']"
   ]
  },
  {
   "cell_type": "code",
   "execution_count": 44,
   "id": "b8d7647e-307a-4286-8922-2bea25321828",
   "metadata": {},
   "outputs": [
    {
     "data": {
      "text/plain": [
       "list"
      ]
     },
     "execution_count": 44,
     "metadata": {},
     "output_type": "execute_result"
    }
   ],
   "source": [
    "type(var3)"
   ]
  },
  {
   "cell_type": "code",
   "execution_count": 45,
   "id": "42465336-9f8c-41a8-a983-2895ab3df8e5",
   "metadata": {},
   "outputs": [],
   "source": [
    "var4=1"
   ]
  },
  {
   "cell_type": "code",
   "execution_count": 46,
   "id": "33ed6e38-911f-4c77-9c5a-5fc1ffd9b910",
   "metadata": {},
   "outputs": [
    {
     "data": {
      "text/plain": [
       "int"
      ]
     },
     "execution_count": 46,
     "metadata": {},
     "output_type": "execute_result"
    }
   ],
   "source": [
    "type(var4)"
   ]
  },
  {
   "cell_type": "markdown",
   "id": "a394c262-99d4-4a80-82ca-818a15ba82ca",
   "metadata": {},
   "source": [
    "## Question 3"
   ]
  },
  {
   "cell_type": "code",
   "execution_count": null,
   "id": "f08e9480-1cf2-4acf-a230-8410c1004ea0",
   "metadata": {},
   "outputs": [],
   "source": [
    "#  1. /  operator is used to perform the division"
   ]
  },
  {
   "cell_type": "code",
   "execution_count": null,
   "id": "40cd8d1e-4865-4045-952f-678600368474",
   "metadata": {},
   "outputs": [],
   "source": [
    "#  2. % opreator is used to find the remainder"
   ]
  },
  {
   "cell_type": "code",
   "execution_count": null,
   "id": "95c00c34-6473-4b7e-91d1-08bee5cf8655",
   "metadata": {},
   "outputs": [],
   "source": [
    "#  3.  // operator is used to divide the first operand with second"
   ]
  },
  {
   "cell_type": "code",
   "execution_count": null,
   "id": "45e18054-ac06-401c-99da-db98d6c4b865",
   "metadata": {},
   "outputs": [],
   "source": [
    "#   4.  ** operator is used to return the first raised to power second"
   ]
  },
  {
   "cell_type": "markdown",
   "id": "44a633fb-e301-444a-b389-bf11feaa45e5",
   "metadata": {},
   "source": [
    "## Question 4"
   ]
  },
  {
   "cell_type": "code",
   "execution_count": 47,
   "id": "39c12ea8-3b28-47f7-b99f-6d9794b5c52c",
   "metadata": {},
   "outputs": [],
   "source": [
    "list1=['Python','hellow to pyhton world',112233,1122.33]"
   ]
  },
  {
   "cell_type": "code",
   "execution_count": 49,
   "id": "dbe3dbab-3204-412c-8ec1-5dd1e4e7b0e3",
   "metadata": {},
   "outputs": [
    {
     "name": "stdout",
     "output_type": "stream",
     "text": [
      "Python <class 'str'>\n",
      "hellow to pyhton world <class 'str'>\n",
      "112233 <class 'int'>\n",
      "1122.33 <class 'float'>\n"
     ]
    }
   ],
   "source": [
    "for i in list1:\n",
    "    print(i,type(i))"
   ]
  },
  {
   "cell_type": "markdown",
   "id": "526044f3-df7f-46c6-9ffd-750d6db9baad",
   "metadata": {},
   "source": [
    "## Question 6"
   ]
  },
  {
   "cell_type": "code",
   "execution_count": 54,
   "id": "674bc1fe-e830-43db-b99e-d9355e9cb5c1",
   "metadata": {},
   "outputs": [],
   "source": [
    " list2=[i for i in range(1,25)]"
   ]
  },
  {
   "cell_type": "code",
   "execution_count": 55,
   "id": "a3fdc663-b02d-4d34-929f-5ea1755a9d6e",
   "metadata": {},
   "outputs": [
    {
     "data": {
      "text/plain": [
       "[1,\n",
       " 2,\n",
       " 3,\n",
       " 4,\n",
       " 5,\n",
       " 6,\n",
       " 7,\n",
       " 8,\n",
       " 9,\n",
       " 10,\n",
       " 11,\n",
       " 12,\n",
       " 13,\n",
       " 14,\n",
       " 15,\n",
       " 16,\n",
       " 17,\n",
       " 18,\n",
       " 19,\n",
       " 20,\n",
       " 21,\n",
       " 22,\n",
       " 23,\n",
       " 24]"
      ]
     },
     "execution_count": 55,
     "metadata": {},
     "output_type": "execute_result"
    }
   ],
   "source": [
    "list2"
   ]
  },
  {
   "cell_type": "code",
   "execution_count": 57,
   "id": "eb59ad17-f98c-4ed5-aaf2-4e9fd3feab4d",
   "metadata": {},
   "outputs": [
    {
     "name": "stdout",
     "output_type": "stream",
     "text": [
      "not divisible by 3\n",
      "not divisible by 3\n",
      "divisible by 3\n",
      "not divisible by 3\n",
      "not divisible by 3\n",
      "divisible by 3\n",
      "not divisible by 3\n",
      "not divisible by 3\n",
      "divisible by 3\n",
      "not divisible by 3\n",
      "not divisible by 3\n",
      "divisible by 3\n",
      "not divisible by 3\n",
      "not divisible by 3\n",
      "divisible by 3\n",
      "not divisible by 3\n",
      "not divisible by 3\n",
      "divisible by 3\n",
      "not divisible by 3\n",
      "not divisible by 3\n",
      "divisible by 3\n",
      "not divisible by 3\n",
      "not divisible by 3\n",
      "divisible by 3\n"
     ]
    }
   ],
   "source": [
    "for i in list2:\n",
    "    if i%3==0:\n",
    "        print(\"divisible by 3\")\n",
    "    else:\n",
    "        print( \"not divisible by 3\")"
   ]
  },
  {
   "cell_type": "markdown",
   "id": "5559a96c-ae71-4ad6-a1a5-ac33cdb62a19",
   "metadata": {},
   "source": [
    "## Question 7"
   ]
  },
  {
   "cell_type": "code",
   "execution_count": null,
   "id": "5c9abf7a-12ae-4e9a-af5c-2c7da9457664",
   "metadata": {},
   "outputs": [],
   "source": [
    "##  those whose values can be changed or new values can be assigned to them. List, Sets, and Dictionary in Python"
   ]
  },
  {
   "cell_type": "code",
   "execution_count": null,
   "id": "30a61fef-822a-4980-bb02-68d7eda682a8",
   "metadata": {},
   "outputs": [],
   "source": [
    "## those, whose values cannot be modified once they are created."
   ]
  }
 ],
 "metadata": {
  "kernelspec": {
   "display_name": "Python 3 (ipykernel)",
   "language": "python",
   "name": "python3"
  },
  "language_info": {
   "codemirror_mode": {
    "name": "ipython",
    "version": 3
   },
   "file_extension": ".py",
   "mimetype": "text/x-python",
   "name": "python",
   "nbconvert_exporter": "python",
   "pygments_lexer": "ipython3",
   "version": "3.10.8"
  }
 },
 "nbformat": 4,
 "nbformat_minor": 5
}
